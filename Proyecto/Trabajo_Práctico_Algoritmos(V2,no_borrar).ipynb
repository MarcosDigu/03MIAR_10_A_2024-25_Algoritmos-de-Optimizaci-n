{
  "cells": [
    {
      "cell_type": "markdown",
      "metadata": {
        "id": "hVbXYX-RfPWh"
      },
      "source": [
        "# Algoritmos de optimización - Trabajo Práctico\n",
        "Nombre y Apellidos: Marcos José Díaz Gutiérrezz\n",
        "Problema:\n",
        "\n",
        "1. Sesiones de doblaje\n",
        "2. Organizar los horarios de partidos de una jornada de La Liga\n",
        "3. Configuración de Tribunales\n",
        "\n",
        "\n",
        "\n",
        "Descripción del problema:\n",
        "\n",
        "Se precisa coordinar el doblaje de una película. Los actores del doblaje deben coincidir en las\n",
        "tomas en las que sus personajes aparecen juntos en las diferentes tomas. Los actores de\n",
        "doblaje cobran todos la misma cantidad por cada día que deben desplazarse hasta el estudio de\n",
        "grabación independientemente del número de tomas que se graben. No es posible grabar más\n",
        "de 6 tomas por día. El objetivo es planificar las sesiones por día de manera que el gasto por los\n",
        "servicios de los actores de doblaje sea el menor posible. Los datos son:\n",
        "\n",
        "- Número de actores: 10\n",
        "- Número de tomas : 30\n",
        "- Actores/Tomas : https://bit.ly/36D8IuK\n",
        "- 1 indica que el actor participa en la toma\n",
        "- 0 en caso contrario                                        "
      ]
    },
    {
      "cell_type": "markdown",
      "metadata": {},
      "source": [
        "---"
      ]
    },
    {
      "cell_type": "markdown",
      "metadata": {
        "id": "Sbo9IqQtpaHZ"
      },
      "source": [
        "# 1. Modelo\n",
        "- ¿Como represento el espacio de soluciones?\n",
        "- ¿Cual es la función objetivo?\n",
        "- ¿Como implemento las restricciones?"
      ]
    },
    {
      "cell_type": "markdown",
      "metadata": {},
      "source": [
        "# 1. Modelo\n",
        "\n",
        "## Representación del espacio de soluciones\n",
        "El espacio de soluciones se representa como una **asignación de tomas a días de grabación**.  \n",
        "Cada solución es una partición de las 30 tomas en un conjunto de días, donde cada día contiene un grupo de hasta 6 tomas.\n",
        "\n",
        "Formalmente, una solución se representa como:\n",
        "\n",
        "$$\n",
        "S = \\{D_1, D_2, ..., D_n\\}\n",
        "$$\n",
        "\n",
        "Donde cada \\(D_i\\) es un conjunto de tomas asignadas a un día específico, cumpliendo las restricciones del problema.\n",
        "\n",
        "## Función objetivo\n",
        "El objetivo es minimizar el **costo total de los actores**, lo cual se traduce en minimizar el número de días de grabación.  \n",
        "Dado que cada actor cobra lo mismo por día, buscamos reducir el número de días en los que se requiere traer actores adicionales.\n",
        "\n",
        "$$\n",
        "\\min \\sum_{d} y_d\n",
        "$$\n",
        "\n",
        "Donde:\n",
        "- $y_d = 1$ si el día \\( d \\) se usa para grabar.\n",
        "- $y_d = 0$ si el día \\( d \\) no se usa.\n",
        "\n",
        "## Implementación de las restricciones\n",
        "Las restricciones se implementan de la siguiente manera:\n",
        "\n",
        "1. **Cada toma debe ser grabada una única vez**  \n",
        "   - Cada toma \\( t \\) debe pertenecer a exactamente un conjunto $ D_i $.\n",
        "  \n",
        "2. **No más de 6 tomas por día**  \n",
        "   - $ |D_i| \\leq 6 \\quad \\forall i $ (máximo 6 tomas por día).\n",
        "\n",
        "3. **Los actores de una toma deben coincidir en el mismo día**  \n",
        "   - Si un actor participa en varias tomas, todas deben estar en el mismo $ D_i $.\n",
        "\n",
        "Estas restricciones se manejan en el código asegurando que:\n",
        "- Se asigna cada toma una única vez.\n",
        "- Se evalúan combinaciones de tomas para que no superen las 6 por día.\n",
        "- Se agrupan tomas de manera que los actores coincidan en el mismo día, minimizando actores nuevos."
      ]
    },
    {
      "cell_type": "markdown",
      "metadata": {},
      "source": [
        "---"
      ]
    },
    {
      "cell_type": "markdown",
      "metadata": {
        "id": "HZz52wOppp-U"
      },
      "source": [
        "# 2. Análisis\n",
        "- ¿Que complejidad tiene el problema?. Orden de complejidad y Contabilizar el espacio de soluciones"
      ]
    },
    {
      "cell_type": "markdown",
      "metadata": {},
      "source": [
        "# 2. Análisis\n",
        "\n",
        "## Complejidad del problema\n",
        "\n",
        "Este problema pertenece a la clase **NP-difícil**, ya que se puede modelar como un **problema de partición de conjuntos con restricciones adicionales**. \n",
        "\n",
        "Para cada toma, debemos decidir en qué día colocarla, asegurando que **no más de 6 tomas** se asignen por día y que los actores coincidan en un mismo día.  \n",
        "Esto es similar a problemas como **Bin Packing** o **Graph Coloring**, que son conocidos por ser NP-completos.\n",
        "\n",
        "El **orden de complejidad** del problema exacto (fuerza bruta) es **exponencial**, ya que tendríamos que probar todas las asignaciones posibles de tomas a días.  \n",
        "Dado que tenemos **30 tomas** y podemos organizarlas en un número variable de días (hasta 30 en el peor caso), la cantidad de formas de agruparlas es aproximadamente:\n",
        "\n",
        "$$\n",
        "O(6^{30})\n",
        "$$\n",
        "\n",
        "Donde **6** es el número máximo de tomas por día y **30** es el número total de tomas.  \n",
        "Esto hace inviable resolverlo por fuerza bruta en tiempos razonables.\n",
        "\n",
        "El **algoritmo voraz** que implementamos tiene una **complejidad reducida**. En cada iteración, evalúa combinaciones de hasta 6 tomas, lo que tiene un coste de aproximadamente:\n",
        "\n",
        "$$\n",
        "O(n \\cdot C(n, 6))\n",
        "$$\n",
        "\n",
        "Donde \\( C(n, k) = \\frac{n!}{k!(n-k)!} \\) es el número de combinaciones posibles.  \n",
        "En nuestro caso, esto es mucho más eficiente que la exploración exhaustiva.\n",
        "\n",
        "## Contabilización del espacio de soluciones\n",
        "\n",
        "El **espacio de soluciones** está compuesto por todas las maneras de distribuir las 30 tomas en grupos de hasta 6 por día.\n",
        "\n",
        "Para estimar su tamaño, pensemos en cuántas formas podemos agrupar \\( n \\) elementos en subconjuntos de tamaño máximo \\( k \\).  \n",
        "Esto es equivalente a contar **particiones restringidas del conjunto**, lo cual tiene una relación con los **números de Stirling de segunda especie** \\( S(n, k) \\).\n",
        "\n",
        "Aproximadamente, el tamaño del espacio de soluciones crece como:\n",
        "\n",
        "$$\n",
        "\\sum_{k=1}^{\\lceil n / 6 \\rceil} S(n, k)\n",
        "$$\n",
        "\n",
        "Donde \\( S(n, k) \\) representa las formas de dividir \\( n \\) elementos en \\( k \\) grupos.\n",
        "\n",
        "Dado que los números de Stirling crecen **super-exponencialmente**, el espacio de soluciones es inmenso, reforzando la necesidad de algoritmos eficientes como el que hemos implementado."
      ]
    },
    {
      "cell_type": "markdown",
      "metadata": {},
      "source": [
        "---"
      ]
    },
    {
      "cell_type": "markdown",
      "metadata": {
        "id": "ixEJUwH_pv7M"
      },
      "source": [
        "# 3. Diseño\n",
        "- ¿Que técnica utilizo? ¿Por qué?"
      ]
    },
    {
      "cell_type": "markdown",
      "metadata": {},
      "source": [
        "# 3. Diseño\n",
        "\n",
        "## ¿Qué técnica utilizo? ¿Por qué?\n",
        "\n",
        "Para resolver este problema, utilizamos un **algoritmo voraz** (greedy algorithm).  \n",
        "El objetivo es minimizar el número de días de grabación y, por tanto, el costo total de los actores. \n",
        "\n",
        "Un algoritmo voraz es adecuado porque:\n",
        "\n",
        "1. **Toma decisiones locales óptimas**: En cada iteración, seleccionamos el mejor conjunto de hasta 6 tomas que minimice la incorporación de nuevos actores.\n",
        "2. **Es computacionalmente eficiente**: En lugar de explorar todas las posibles asignaciones (lo cual sería exponencial), el algoritmo selecciona **de manera heurística** la mejor combinación de tomas en cada paso.\n",
        "3. **Es fácil de implementar** y ajustable a nuevas restricciones.\n",
        "\n",
        "### ¿Por qué no usar otros métodos?\n",
        "\n",
        "- **Fuerza bruta**: \n",
        "  - Evaluaría todas las formas posibles de asignar las tomas a los días.\n",
        "  - Su complejidad sería **exponencial** \\( O(6^{30}) \\), lo que hace que sea inviable para problemas grandes.\n",
        "\n",
        "- **Backtracking (vuelta atrás)**:\n",
        "  - Aunque encontraría una solución óptima, su eficiencia sigue siendo un problema.\n",
        "  - La exploración de combinaciones crece rápidamente y, sin una buena heurística, el tiempo de ejecución es muy alto.\n",
        "\n",
        "- **Programación dinámica**:\n",
        "  - Es difícil definir una relación de recurrencia eficiente en este problema, ya que los grupos de tomas no tienen un orden fijo.\n",
        "  - La cantidad de estados posibles sigue siendo demasiado grande.\n",
        "\n",
        "### Justificación del algoritmo voraz\n",
        "\n",
        "El algoritmo voraz permite reducir la cantidad de días usados sin necesidad de evaluar todas las combinaciones posibles.  \n",
        "Si bien no garantiza la **solución óptima global**, en la práctica **produce soluciones cercanas al óptimo** en tiempos muy reducidos.\n",
        "\n",
        "La estrategia específica que seguimos es:\n",
        "\n",
        "1. **Mientras haya tomas sin asignar**:\n",
        "   - Buscar la mejor combinación de hasta 6 tomas que **minimice el número de actores nuevos** en ese día.\n",
        "   - Asignar esas tomas al día actual.\n",
        "   - Actualizar los actores que ya han grabado para no volver a pagarlos innecesariamente.\n",
        "\n",
        "2. **Repetir hasta asignar todas las tomas.**\n",
        "\n",
        "Esta estrategia aprovecha la estructura del problema y permite obtener resultados eficientes en tiempos prácticos.\n",
        "\n",
        "---\n"
      ]
    },
    {
      "cell_type": "code",
      "execution_count": 6,
      "metadata": {},
      "outputs": [
        {
          "name": "stdout",
          "output_type": "stream",
          "text": [
            "Costo total mínimo: 10\n",
            "Planificación óptima:\n",
            "Día 1: Tomas (16, 18, 22)\n",
            "Día 2: Tomas (13, 17, 23)\n",
            "Día 3: Tomas (27, 29)\n",
            "Día 4: Tomas (1, 12, 19, 26, 28)\n",
            "Día 5: Tomas (0, 5, 6, 7, 8, 11)\n",
            "Día 6: Tomas (4, 10, 20, 21)\n",
            "Día 7: Tomas (2, 3, 14)\n",
            "Día 8: Tomas (9, 25)\n",
            "Día 9: Tomas (15, 24)\n"
          ]
        }
      ],
      "source": [
        "import pandas as pd\n",
        "import itertools\n",
        "\n",
        "# Cargar los datos\n",
        "file_path = \"Datos problema doblaje.xlsx\"  # Cambia por la ruta correcta\n",
        "df = pd.read_excel(file_path, index_col=0)\n",
        "\n",
        "# Convertir a matriz binaria (cada fila es una toma y cada columna un actor)\n",
        "matriz_tomas = df.values\n",
        "num_tomas, num_actores = matriz_tomas.shape\n",
        "tomas = list(range(num_tomas))\n",
        "\n",
        "# Generar combinaciones de hasta 6 tomas por día\n",
        "combinaciones_validas = []\n",
        "for i in range(1, 7):  # De 1 a 6 tomas por día\n",
        "    combinaciones_validas.extend(itertools.combinations(tomas, i))\n",
        "\n",
        "# Función para obtener los actores involucrados en una combinación de tomas\n",
        "def actores_necesarios(combinacion):\n",
        "    actores = set()\n",
        "    for toma in combinacion:\n",
        "        for actor in range(num_actores):\n",
        "            if matriz_tomas[toma][actor] == 1:\n",
        "                actores.add(actor)\n",
        "    return frozenset(actores)\n",
        "\n",
        "# Mapeo de combinaciones a actores requeridos\n",
        "combinacion_a_actores = {comb: actores_necesarios(comb) for comb in combinaciones_validas}\n",
        "\n",
        "# Algoritmo voraz mejorado\n",
        "def algoritmo_voraz_mejorado():\n",
        "    tomas_pendientes = set(tomas)\n",
        "    planificacion = []\n",
        "    actores_previos = set()\n",
        "    costo_total = 0\n",
        "\n",
        "    while tomas_pendientes:\n",
        "        mejor_comb = None\n",
        "        mejor_nuevos_actores = None\n",
        "        menor_costo_adicional = float('inf')\n",
        "\n",
        "        # Buscar la mejor combinación de tomas (hasta 6) para minimizar actores nuevos\n",
        "        for comb in combinaciones_validas:\n",
        "            if tomas_pendientes.issuperset(comb):  # Solo considerar tomas pendientes\n",
        "                actores_requeridos = combinacion_a_actores[comb]\n",
        "                actores_nuevos = actores_requeridos - actores_previos\n",
        "                costo_adicional = len(actores_nuevos)\n",
        "\n",
        "                # Priorizar combinaciones que maximicen tomas con menor costo adicional\n",
        "                if len(comb) > 1 and (costo_adicional < menor_costo_adicional or (costo_adicional == menor_costo_adicional and len(comb) > len(mejor_comb or []))):\n",
        "                    mejor_comb = comb\n",
        "                    mejor_nuevos_actores = actores_nuevos\n",
        "                    menor_costo_adicional = costo_adicional\n",
        "\n",
        "        # Si no encuentra una buena combinación, tomar la siguiente disponible\n",
        "        if mejor_comb is None:\n",
        "            mejor_comb = (tomas_pendientes.pop(),)  # Tomar una toma aislada\n",
        "            mejor_nuevos_actores = actores_necesarios(mejor_comb)\n",
        "            menor_costo_adicional = len(mejor_nuevos_actores)\n",
        "\n",
        "        # Registrar la asignación del día\n",
        "        planificacion.append(mejor_comb)\n",
        "        tomas_pendientes -= set(mejor_comb)\n",
        "        actores_previos |= mejor_nuevos_actores\n",
        "        costo_total += menor_costo_adicional\n",
        "\n",
        "    return costo_total, planificacion\n",
        "\n",
        "# Ejecutar el algoritmo corregido\n",
        "costo_voraz, planificacion_voraz = algoritmo_voraz_mejorado()\n",
        "\n",
        "# Mostrar resultados\n",
        "print(\"Costo total mínimo:\", costo_voraz)\n",
        "print(\"Planificación óptima:\")\n",
        "for dia, tomas in enumerate(planificacion_voraz, 1):\n",
        "    print(f\"Día {dia}: Tomas {tomas}\")\n"
      ]
    },
    {
      "cell_type": "code",
      "execution_count": null,
      "metadata": {},
      "outputs": [
        {
          "data": {
            "text/plain": [
              "(True, True, True)"
            ]
          },
          "execution_count": 7,
          "metadata": {},
          "output_type": "execute_result"
        }
      ],
      "source": [
        "# Verificación de la solución\n",
        "\n",
        "# Planificación obtenida\n",
        "planificacion_voraz = [\n",
        "    (16, 18, 22),\n",
        "    (13, 17, 23),\n",
        "    (27, 29),\n",
        "    (1, 12, 19, 26, 28),\n",
        "    (0, 5, 6, 7, 8, 11),\n",
        "    (4, 10, 20, 21),\n",
        "    (2, 3, 14),\n",
        "    (9, 25),\n",
        "    (15, 24)\n",
        "]\n",
        "\n",
        "# 1. Verificar que cada toma aparece solo una vez\n",
        "tomas_asignadas = set()\n",
        "for dia in planificacion_voraz:\n",
        "    tomas_asignadas.update(dia)\n",
        "\n",
        "todas_tomas_asignadas = (len(tomas_asignadas) == num_tomas)\n",
        "assert todas_tomas_asignadas, \"Error: No todas las tomas han sido asignadas correctamente o hay duplicaciones.\"\n",
        "\n",
        "# 2. Verificar que no hay más de 6 tomas por día\n",
        "max_tomas_cumplido = all(len(dia) <= 6 for dia in planificacion_voraz)\n",
        "assert max_tomas_cumplido, \"Error: Se asignaron más de 6 tomas en algún día.\"\n",
        "\n",
        "# 3. Verificar que los actores de cada toma coinciden en el mismo día\n",
        "restriccion_actores_cumplida = True\n",
        "for dia in planificacion_voraz:\n",
        "    actores_dia = set()\n",
        "    for toma in dia:\n",
        "        actores_dia |= actores_necesarios((toma,))  # Obtener actores de la toma\n",
        "    for toma in dia:\n",
        "        if not actores_necesarios((toma,)).issubset(actores_dia):\n",
        "            restriccion_actores_cumplida = False\n",
        "            break\n",
        "\n",
        "assert restriccion_actores_cumplida, \"Error: Un actor necesario para una toma no está presente en todo el día.\"\n",
        "\n",
        "# Si no hay errores, la solución es válida\n",
        "todas_tomas_asignadas, max_tomas_cumplido, restriccion_actores_cumplida"
      ]
    }
  ],
  "metadata": {
    "colab": {
      "provenance": []
    },
    "kernelspec": {
      "display_name": "entorno_cc",
      "language": "python",
      "name": "python3"
    },
    "language_info": {
      "codemirror_mode": {
        "name": "ipython",
        "version": 3
      },
      "file_extension": ".py",
      "mimetype": "text/x-python",
      "name": "python",
      "nbconvert_exporter": "python",
      "pygments_lexer": "ipython3",
      "version": "3.8.19"
    }
  },
  "nbformat": 4,
  "nbformat_minor": 0
}
